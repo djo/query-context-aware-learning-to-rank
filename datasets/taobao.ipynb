{
 "cells": [
  {
   "cell_type": "code",
   "execution_count": null,
   "metadata": {},
   "outputs": [],
   "source": [
    "#!/bin/bash\n",
    "!mkdir files && curl -L -o files/userbehavior.zip\\\n",
    "  https://www.kaggle.com/api/v1/datasets/download/marwa80/userbehavior && unzip files/userbehavior.zip -d files\n"
   ]
  },
  {
   "cell_type": "code",
   "execution_count": null,
   "metadata": {},
   "outputs": [
    {
     "name": "stdout",
     "output_type": "stream",
     "text": [
      "Collecting polars\n",
      "  Downloading polars-1.23.0-cp39-abi3-macosx_11_0_arm64.whl.metadata (14 kB)\n",
      "Downloading polars-1.23.0-cp39-abi3-macosx_11_0_arm64.whl (30.4 MB)\n",
      "\u001b[2K   \u001b[90m━━━━━━━━━━━━━━━━━━━━━━━━━━━━━━━━━━━━━━━━\u001b[0m \u001b[32m30.4/30.4 MB\u001b[0m \u001b[31m38.0 MB/s\u001b[0m eta \u001b[36m0:00:00\u001b[0m00:01\u001b[0m00:01\u001b[0m\n",
      "\u001b[?25hInstalling collected packages: polars\n",
      "Successfully installed polars-1.23.0\n",
      "\n",
      "\u001b[1m[\u001b[0m\u001b[34;49mnotice\u001b[0m\u001b[1;39;49m]\u001b[0m\u001b[39;49m A new release of pip is available: \u001b[0m\u001b[31;49m24.0\u001b[0m\u001b[39;49m -> \u001b[0m\u001b[32;49m25.0.1\u001b[0m\n",
      "\u001b[1m[\u001b[0m\u001b[34;49mnotice\u001b[0m\u001b[1;39;49m]\u001b[0m\u001b[39;49m To update, run: \u001b[0m\u001b[32;49mpip install --upgrade pip\u001b[0m\n"
     ]
    }
   ],
   "source": [
    "!pip install polars"
   ]
  },
  {
   "cell_type": "code",
   "execution_count": 3,
   "metadata": {},
   "outputs": [],
   "source": [
    "import polars as pl\n",
    "\n",
    "dataset = pl.read_csv(\n",
    "    \"files/userbehavior.csv\", \n",
    "    has_header=False,\n",
    "    new_columns=[\"user_id\", \"item_id\", \"category_id\", \"behavior\", \"ts\"]\n",
    ")"
   ]
  },
  {
   "cell_type": "code",
   "execution_count": 4,
   "metadata": {},
   "outputs": [
    {
     "data": {
      "text/plain": [
       "1512271106.0"
      ]
     },
     "execution_count": 4,
     "metadata": {},
     "output_type": "execute_result"
    }
   ],
   "source": [
    "ts_cutoff = (\n",
    "    dataset\n",
    "    .select(\"ts\")\n",
    "    .cast(pl.Int32)\n",
    "    .quantile(0.9)\n",
    ")\n",
    "\n",
    "ts_cutoff['ts'][0]"
   ]
  },
  {
   "cell_type": "code",
   "execution_count": 5,
   "metadata": {},
   "outputs": [],
   "source": [
    "train_dataset = (\n",
    "    dataset\n",
    "    .filter(pl.col(\"ts\") < ts_cutoff['ts'][0])\n",
    ")\n",
    "\n",
    "test_dataset_user_ids = (\n",
    "    dataset\n",
    "    .group_by(\"user_id\")\n",
    "    .agg(pl.max(\"ts\").alias(\"latest_appearence\"))\n",
    "    .filter(pl.col(\"latest_appearence\") >= ts_cutoff['ts'][0])\n",
    ")\n",
    "\n",
    "test_dataset = (\n",
    "    dataset\n",
    "    .join(test_dataset_user_ids, \"user_id\")\n",
    ")\n",
    "\n",
    "test_dataset_per_user_cutoff = (\n",
    "    test_dataset\n",
    "    .filter(pl.col(\"ts\") >= ts_cutoff['ts'][0])\n",
    "    .sort([\"user_id\", \"ts\"])\n",
    "    .with_columns(\n",
    "        pl.col(\"ts\").cast(pl.Int32).rank(method=\"ordinal\", descending=False).over(\"user_id\").alias(\"rank\"),\n",
    "        pl.col(\"ts\").alias(\"ts_cutoff\")\n",
    "    )\n",
    "    .filter(pl.col(\"rank\") == 1)\n",
    "    .select([\"user_id\", \"ts_cutoff\"])\n",
    ")\n",
    "\n",
    "test_dataset = (\n",
    "    test_dataset\n",
    "    .join(test_dataset_per_user_cutoff, \"user_id\")\n",
    "    .filter(pl.col(\"ts\") <= pl.col(\"ts_cutoff\"))\n",
    ")"
   ]
  },
  {
   "cell_type": "code",
   "execution_count": 9,
   "metadata": {},
   "outputs": [],
   "source": [
    "item_mapping = (\n",
    "    train_dataset\n",
    "    .group_by(\"item_id\")\n",
    "    .agg(pl.count(\"item_id\").alias(\"num_occurrences\"))\n",
    "    .filter(pl.col(\"num_occurrences\") > 50)\n",
    "    .sort(\"num_occurrences\", descending=True)\n",
    "    .with_columns(pl.col(\"num_occurrences\").rank(descending=True, method=\"ordinal\").alias(\"rank_item\"))\n",
    ")"
   ]
  },
  {
   "cell_type": "code",
   "execution_count": null,
   "metadata": {},
   "outputs": [
    {
     "data": {
      "text/plain": [
       "(1, 315689)"
      ]
     },
     "execution_count": 10,
     "metadata": {},
     "output_type": "execute_result"
    }
   ],
   "source": [
    "item_mapping[\"rank_item\"].min(), item_mapping[\"rank_item\"].max()"
   ]
  },
  {
   "cell_type": "code",
   "execution_count": 11,
   "metadata": {},
   "outputs": [],
   "source": [
    "category_mapping = (\n",
    "    train_dataset\n",
    "    .group_by(\"category_id\")\n",
    "    .agg(pl.count(\"category_id\").alias(\"num_occurrences\"))\n",
    "    .filter(pl.col(\"num_occurrences\") > 10)\n",
    "    .sort(\"num_occurrences\", descending=True)\n",
    "    .with_columns(pl.col(\"num_occurrences\").rank(descending=True, method=\"ordinal\").alias(\"rank_category\"))\n",
    ")"
   ]
  },
  {
   "cell_type": "code",
   "execution_count": 12,
   "metadata": {},
   "outputs": [
    {
     "data": {
      "text/plain": [
       "7905"
      ]
     },
     "execution_count": 12,
     "metadata": {},
     "output_type": "execute_result"
    }
   ],
   "source": [
    "category_mapping[\"rank_category\"].max()"
   ]
  },
  {
   "cell_type": "code",
   "execution_count": null,
   "metadata": {},
   "outputs": [],
   "source": [
    "(\n",
    "    train_dataset\n",
    "    .with_columns(behavior=pl.col(\"behavior\").replace_strict([\"pv\", \"fav\", \"cart\", \"buy\"], [0, 1, 2, 3]))\n",
    "    .join(item_mapping, on=\"item_id\")\n",
    "    .join(category_mapping, on=\"category_id\")\n",
    "    .sort([\"user_id\", \"ts\"])\n",
    "    .group_by(\"user_id\")\n",
    "    .agg(\n",
    "        pl.col(\"rank_item\").alias(\"items\"),\n",
    "        pl.col(\"rank_category\").alias(\"categories\"),\n",
    "        pl.col(\"behavior\").alias(\"behaviors\"),\n",
    "        pl.col(\"ts\").alias(\"timestamps\"),\n",
    "    )\n",
    "    .sample(fraction=1.0, shuffle=True)\n",
    "    .write_parquet(\"files/train_taobao_preprocessed.parquet\")\n",
    ")"
   ]
  },
  {
   "cell_type": "code",
   "execution_count": null,
   "metadata": {},
   "outputs": [],
   "source": [
    "(\n",
    "    test_dataset\n",
    "    .with_columns(behavior=pl.col(\"behavior\").replace_strict([\"pv\", \"fav\", \"cart\", \"buy\"], [0, 1, 2, 3]))\n",
    "    .join(item_mapping, on=\"item_id\")\n",
    "    .join(category_mapping, on=\"category_id\")\n",
    "    .sort([\"user_id\", \"ts\"])\n",
    "    .group_by(\"user_id\")\n",
    "    .agg(\n",
    "        pl.col(\"rank_item\").alias(\"items\"),\n",
    "        pl.col(\"rank_category\").alias(\"categories\"),\n",
    "        pl.col(\"behavior\").alias(\"behaviors\"),\n",
    "        pl.col(\"ts\").alias(\"timestamps\"),\n",
    "    )\n",
    "    .write_parquet(\"files/test_taobao_preprocessed.parquet\")\n",
    ")"
   ]
  },
  {
   "cell_type": "code",
   "execution_count": 2,
   "metadata": {},
   "outputs": [],
   "source": [
    "import polars as pl\n",
    "train_dataset = pl.read_parquet(\"files/train_taobao_preprocessed.parquet\")"
   ]
  },
  {
   "cell_type": "code",
   "execution_count": 13,
   "metadata": {},
   "outputs": [
    {
     "data": {
      "text/html": [
       "<div><style>\n",
       ".dataframe > thead > tr,\n",
       ".dataframe > tbody > tr {\n",
       "  text-align: right;\n",
       "  white-space: pre-wrap;\n",
       "}\n",
       "</style>\n",
       "<small>shape: (1, 2)</small><table border=\"1\" class=\"dataframe\"><thead><tr><th>num_items</th><th>is_single_item</th></tr><tr><td>f64</td><td>f64</td></tr></thead><tbody><tr><td>56.0</td><td>0.00164</td></tr></tbody></table></div>"
      ],
      "text/plain": [
       "shape: (1, 2)\n",
       "┌───────────┬────────────────┐\n",
       "│ num_items ┆ is_single_item │\n",
       "│ ---       ┆ ---            │\n",
       "│ f64       ┆ f64            │\n",
       "╞═══════════╪════════════════╡\n",
       "│ 56.0      ┆ 0.00164        │\n",
       "└───────────┴────────────────┘"
      ]
     },
     "execution_count": 13,
     "metadata": {},
     "output_type": "execute_result"
    }
   ],
   "source": [
    "(\n",
    "    train_dataset\n",
    "    .with_columns(\n",
    "        pl.col(\"items\").list.len().alias(\"num_items\"),\n",
    "        #add column, showing if len(items) == 1\n",
    "        pl.when(pl.col(\"items\").list.len() == 1)\n",
    "        .then(pl.lit(1))\n",
    "        .otherwise(pl.lit(0))\n",
    "        .alias(\"is_single_item\")\n",
    "    )\n",
    "    .select(\n",
    "        pl.median(\"num_items\"),\n",
    "        pl.mean(\"is_single_item\")\n",
    "    )\n",
    ")"
   ]
  }
 ],
 "metadata": {
  "kernelspec": {
   "display_name": "recbole",
   "language": "python",
   "name": "python3"
  },
  "language_info": {
   "codemirror_mode": {
    "name": "ipython",
    "version": 3
   },
   "file_extension": ".py",
   "mimetype": "text/x-python",
   "name": "python",
   "nbconvert_exporter": "python",
   "pygments_lexer": "ipython3",
   "version": "3.11.9"
  }
 },
 "nbformat": 4,
 "nbformat_minor": 2
}
