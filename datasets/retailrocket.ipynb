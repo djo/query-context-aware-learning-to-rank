{
 "cells": [
  {
   "cell_type": "code",
   "execution_count": null,
   "id": "bee3bde0-e420-45a7-afef-f959136b8c1f",
   "metadata": {
    "execution": {
     "iopub.execute_input": "2025-03-07T15:59:35.083365Z",
     "iopub.status.busy": "2025-03-07T15:59:35.083076Z",
     "iopub.status.idle": "2025-03-07T15:59:53.468430Z",
     "shell.execute_reply": "2025-03-07T15:59:53.467579Z",
     "shell.execute_reply.started": "2025-03-07T15:59:35.083342Z"
    }
   },
   "outputs": [],
   "source": [
    "!mkdir -p files/retailrocket \\\n",
    "  && curl -L -o files/retailrocket/ecommerce-dataset.zip https://www.kaggle.com/api/v1/datasets/download/retailrocket/ecommerce-dataset \\\n",
    "  && unzip files/retailrocket/ecommerce-dataset.zip -d files/retailrocket \\\n",
    "  && rm files/retailrocket/ecommerce-dataset.zip"
   ]
  },
  {
   "cell_type": "code",
   "execution_count": 2,
   "id": "01cc1abd-d498-4b4f-9077-9f6efec0c5b6",
   "metadata": {
    "execution": {
     "iopub.execute_input": "2025-03-07T16:12:39.111021Z",
     "iopub.status.busy": "2025-03-07T16:12:39.109837Z",
     "iopub.status.idle": "2025-03-07T16:12:39.179804Z",
     "shell.execute_reply": "2025-03-07T16:12:39.179237Z",
     "shell.execute_reply.started": "2025-03-07T16:12:39.110996Z"
    }
   },
   "outputs": [],
   "source": [
    "import polars as pl"
   ]
  },
  {
   "cell_type": "code",
   "execution_count": 4,
   "id": "10550845-6921-41b2-b008-cc8efca2b830",
   "metadata": {
    "execution": {
     "iopub.execute_input": "2025-03-07T20:49:43.538142Z",
     "iopub.status.busy": "2025-03-07T20:49:43.537817Z",
     "iopub.status.idle": "2025-03-07T20:49:43.846018Z",
     "shell.execute_reply": "2025-03-07T20:49:43.845422Z",
     "shell.execute_reply.started": "2025-03-07T20:49:43.538121Z"
    }
   },
   "outputs": [],
   "source": [
    "df_items = (\n",
    "    pl.concat(\n",
    "        [\n",
    "            pl.read_csv(\n",
    "                \"files/retailrocket/item_properties_part1.csv\",\n",
    "                has_header=True,\n",
    "                columns=[\"timestamp\", \"itemid\", \"property\", \"value\"]\n",
    "            ).filter(pl.col(\"property\") == \"categoryid\").select(\"timestamp\", pl.col(\"itemid\").alias(\"item_id\"), pl.col(\"value\").cast(pl.Int32).alias(\"category_id\")),\n",
    "            pl.read_csv(\n",
    "                \"files/retailrocket/item_properties_part2.csv\",\n",
    "                has_header=True,\n",
    "                columns=[\"timestamp\", \"itemid\", \"property\", \"value\"]\n",
    "            ).filter(pl.col(\"property\") == \"categoryid\").select(\"timestamp\", pl.col(\"itemid\").alias(\"item_id\"), pl.col(\"value\").cast(pl.Int32).alias(\"category_id\"))\n",
    "        ],\n",
    "        rechunk=True\n",
    "    )\n",
    "    .sort(\"item_id\", \"timestamp\")\n",
    ")"
   ]
  },
  {
   "cell_type": "code",
   "execution_count": 5,
   "id": "629aea89-742a-4151-82b4-81ecb665dda9",
   "metadata": {
    "execution": {
     "iopub.execute_input": "2025-03-07T20:49:45.947567Z",
     "iopub.status.busy": "2025-03-07T20:49:45.947293Z",
     "iopub.status.idle": "2025-03-07T20:49:46.185817Z",
     "shell.execute_reply": "2025-03-07T20:49:46.185195Z",
     "shell.execute_reply.started": "2025-03-07T20:49:45.947546Z"
    }
   },
   "outputs": [
    {
     "name": "stderr",
     "output_type": "stream",
     "text": [
      "/var/folders/f1/pxc4yf2j27b6wkchwv3p6nj00000gp/T/ipykernel_32255/4163469148.py:11: UserWarning: left key of asof join is not sorted.\n",
      "\n",
      "This can lead to invalid results. Ensure the asof key is sorted\n",
      "  .join_asof(df_items, by=\"item_id\", on=\"timestamp\", strategy=\"backward\")\n",
      "/var/folders/f1/pxc4yf2j27b6wkchwv3p6nj00000gp/T/ipykernel_32255/4163469148.py:11: UserWarning: right key of asof join is not sorted.\n",
      "\n",
      "This can lead to invalid results. Ensure the asof key is sorted\n",
      "  .join_asof(df_items, by=\"item_id\", on=\"timestamp\", strategy=\"backward\")\n"
     ]
    }
   ],
   "source": [
    "df_events = (\n",
    "    pl.read_csv(\n",
    "        \"files/retailrocket/events.csv\", \n",
    "        has_header=True, \n",
    "        columns=[\"timestamp\", \"visitorid\", \"event\", \"itemid\"], \n",
    "        new_columns=[\"timestamp\", \"user_id\", \"behavior\", \"item_id\"]\n",
    "    )\n",
    "    .sort(\"item_id\", \"timestamp\")\n",
    "    # this will raise a warning, but is actually correct as both dataframes are sorted within each group. \n",
    "    # see: https://github.com/pola-rs/polars/issues/21051    \n",
    "    .join_asof(df_items, by=\"item_id\", on=\"timestamp\", strategy=\"backward\")  \n",
    ")"
   ]
  },
  {
   "cell_type": "code",
   "execution_count": 6,
   "id": "05593f2a-449b-4ed2-a6c4-48b059bf5772",
   "metadata": {
    "execution": {
     "iopub.execute_input": "2025-03-07T21:03:59.255886Z",
     "iopub.status.busy": "2025-03-07T21:03:59.255448Z",
     "iopub.status.idle": "2025-03-07T21:03:59.276593Z",
     "shell.execute_reply": "2025-03-07T21:03:59.276058Z",
     "shell.execute_reply.started": "2025-03-07T21:03:59.255841Z"
    }
   },
   "outputs": [],
   "source": [
    "ts_cutoff = (\n",
    "    df_events\n",
    "    .select(\"timestamp\")\n",
    "    .quantile(0.9)\n",
    ")['timestamp'][0]"
   ]
  },
  {
   "cell_type": "code",
   "execution_count": 10,
   "id": "aa00b819-facd-4924-8480-2908d1e1e7e3",
   "metadata": {
    "execution": {
     "iopub.execute_input": "2025-03-07T21:05:06.217457Z",
     "iopub.status.busy": "2025-03-07T21:05:06.217179Z",
     "iopub.status.idle": "2025-03-07T21:05:06.277434Z",
     "shell.execute_reply": "2025-03-07T21:05:06.276809Z",
     "shell.execute_reply.started": "2025-03-07T21:05:06.217435Z"
    }
   },
   "outputs": [],
   "source": [
    "df_train = df_events.filter(pl.col(\"timestamp\") < ts_cutoff)\n",
    "df_test_users = (\n",
    "    df_events\n",
    "    .group_by(\"user_id\")\n",
    "    .agg(pl.max(\"timestamp\").alias(\"latest_appearance\"))\n",
    "    .filter(pl.col(\"latest_appearance\") >= ts_cutoff)\n",
    ")\n",
    "\n",
    "df_test = df_events.join(df_test_users, \"user_id\")\n",
    "\n",
    "test_dataset_per_user_cutoff = (\n",
    "    df_test\n",
    "    .filter(pl.col(\"timestamp\") >= ts_cutoff)\n",
    "    .sort([\"user_id\", \"timestamp\"])\n",
    "    .with_columns(\n",
    "        pl.col(\"timestamp\").cast(pl.Int64).rank(method=\"ordinal\", descending=False).over(\"user_id\").alias(\"rank\"),\n",
    "        pl.col(\"timestamp\").alias(\"ts_cutoff\")\n",
    "    )\n",
    "    .filter(pl.col(\"rank\") == 1)\n",
    "    .select([\"user_id\", \"ts_cutoff\"])\n",
    ")\n",
    "\n",
    "df_test = (\n",
    "    df_test\n",
    "    .join(test_dataset_per_user_cutoff, \"user_id\")\n",
    "    .filter(pl.col(\"timestamp\") <= pl.col(\"ts_cutoff\"))\n",
    ")"
   ]
  },
  {
   "cell_type": "code",
   "execution_count": 11,
   "id": "e7069833-10b7-4773-9671-3486e36cece4",
   "metadata": {
    "execution": {
     "iopub.execute_input": "2025-03-07T21:19:52.178143Z",
     "iopub.status.busy": "2025-03-07T21:19:52.177724Z",
     "iopub.status.idle": "2025-03-07T21:19:52.191224Z",
     "shell.execute_reply": "2025-03-07T21:19:52.190499Z",
     "shell.execute_reply.started": "2025-03-07T21:19:52.178116Z"
    }
   },
   "outputs": [],
   "source": [
    "item_mapping = (\n",
    "    df_train\n",
    "    .group_by(\"item_id\")\n",
    "    .agg(pl.count(\"item_id\").alias(\"num_occurrences\"))\n",
    "    .filter(pl.col(\"num_occurrences\") > 10) # retaining roughly 10% of items\n",
    "    .sort(\"num_occurrences\", descending=True)\n",
    "    .with_columns(pl.col(\"num_occurrences\").rank(descending=True, method=\"ordinal\").alias(\"rank_item\"))\n",
    ")\n"
   ]
  },
  {
   "cell_type": "code",
   "execution_count": 12,
   "id": "c5456123",
   "metadata": {},
   "outputs": [
    {
     "data": {
      "text/plain": [
       "46893"
      ]
     },
     "execution_count": 12,
     "metadata": {},
     "output_type": "execute_result"
    }
   ],
   "source": [
    "item_mapping[\"rank_item\"].max()"
   ]
  },
  {
   "cell_type": "code",
   "execution_count": 13,
   "id": "9b7dd111-804e-45ca-91be-c235072587f5",
   "metadata": {
    "execution": {
     "iopub.execute_input": "2025-03-07T21:24:40.875125Z",
     "iopub.status.busy": "2025-03-07T21:24:40.874766Z",
     "iopub.status.idle": "2025-03-07T21:24:40.912074Z",
     "shell.execute_reply": "2025-03-07T21:24:40.911287Z",
     "shell.execute_reply.started": "2025-03-07T21:24:40.875095Z"
    }
   },
   "outputs": [],
   "source": [
    "category_mapping = (\n",
    "    df_train\n",
    "    .group_by(\"category_id\")\n",
    "    .agg(pl.count(\"category_id\").alias(\"num_occurrences\"))\n",
    "    .filter(pl.col(\"num_occurrences\") > 10)\n",
    "    .sort(\"num_occurrences\", descending=True)\n",
    "    .with_columns(pl.col(\"num_occurrences\").rank(descending=True, method=\"ordinal\").alias(\"rank_category\"))\n",
    ")"
   ]
  },
  {
   "cell_type": "code",
   "execution_count": 14,
   "id": "3ae5b3d4",
   "metadata": {},
   "outputs": [
    {
     "data": {
      "text/plain": [
       "1006"
      ]
     },
     "execution_count": 14,
     "metadata": {},
     "output_type": "execute_result"
    }
   ],
   "source": [
    "category_mapping[\"rank_category\"].max()"
   ]
  },
  {
   "cell_type": "code",
   "execution_count": null,
   "id": "bb293691-60bf-4325-831f-bcda24f88bb6",
   "metadata": {
    "execution": {
     "iopub.execute_input": "2025-03-07T21:28:04.075885Z",
     "iopub.status.busy": "2025-03-07T21:28:04.075477Z",
     "iopub.status.idle": "2025-03-07T21:28:05.845893Z",
     "shell.execute_reply": "2025-03-07T21:28:05.844695Z",
     "shell.execute_reply.started": "2025-03-07T21:28:04.075840Z"
    }
   },
   "outputs": [],
   "source": [
    "(\n",
    "    df_train\n",
    "    .with_columns(behavior=pl.col(\"behavior\").replace_strict([\"view\", \"addtocart\", \"transaction\"], [0, 1, 2]))\n",
    "    .join(item_mapping, on=\"item_id\")\n",
    "    .join(category_mapping, on=\"category_id\")\n",
    "    .sort([\"user_id\", \"timestamp\"])\n",
    "    .group_by(\"user_id\")\n",
    "    .agg(\n",
    "        pl.col(\"rank_item\").alias(\"items\"),\n",
    "        pl.col(\"rank_category\").alias(\"categories\"),\n",
    "        pl.col(\"behavior\").alias(\"behaviors\"),\n",
    "        pl.col(\"timestamp\").alias(\"timestamps\"),\n",
    "    )\n",
    "    .sample(fraction=1.0, shuffle=True)\n",
    "    .write_parquet(\"files/train_retailrocket_preprocessed.parquet\")\n",
    ")"
   ]
  },
  {
   "cell_type": "code",
   "execution_count": null,
   "id": "3f4824d6-a6b5-4e3a-bdb5-73b9197787ce",
   "metadata": {},
   "outputs": [],
   "source": [
    "(\n",
    "    df_test\n",
    "    .with_columns(behavior=pl.col(\"behavior\").replace_strict([\"view\", \"addtocart\", \"transaction\"], [0, 1, 2]))\n",
    "    .join(item_mapping, on=\"item_id\")\n",
    "    .join(category_mapping, on=\"category_id\")\n",
    "    .sort([\"user_id\", \"timestamp\"])\n",
    "    .group_by(\"user_id\")\n",
    "    .agg(\n",
    "        pl.col(\"rank_item\").alias(\"items\"),\n",
    "        pl.col(\"rank_category\").alias(\"categories\"),\n",
    "        pl.col(\"behavior\").alias(\"behaviors\"),\n",
    "        pl.col(\"timestamp\").alias(\"timestamps\"),\n",
    "    )\n",
    "    .write_parquet(\"files/test_retailrocket_preprocessed.parquet\")\n",
    ")"
   ]
  },
  {
   "cell_type": "code",
   "execution_count": 2,
   "id": "7111bc53",
   "metadata": {},
   "outputs": [],
   "source": [
    "import polars as pl\n",
    "train_dataset = pl.read_parquet(\"files/train_retailrocket_preprocessed.parquet\")"
   ]
  },
  {
   "cell_type": "code",
   "execution_count": 2,
   "id": "00c1216b",
   "metadata": {},
   "outputs": [
    {
     "data": {
      "text/html": [
       "<div><style>\n",
       ".dataframe > thead > tr,\n",
       ".dataframe > tbody > tr {\n",
       "  text-align: right;\n",
       "  white-space: pre-wrap;\n",
       "}\n",
       "</style>\n",
       "<small>shape: (1, 2)</small><table border=\"1\" class=\"dataframe\"><thead><tr><th>num_items</th><th>is_single_item</th></tr><tr><td>f64</td><td>f64</td></tr></thead><tbody><tr><td>1.0</td><td>0.701646</td></tr></tbody></table></div>"
      ],
      "text/plain": [
       "shape: (1, 2)\n",
       "┌───────────┬────────────────┐\n",
       "│ num_items ┆ is_single_item │\n",
       "│ ---       ┆ ---            │\n",
       "│ f64       ┆ f64            │\n",
       "╞═══════════╪════════════════╡\n",
       "│ 1.0       ┆ 0.701646       │\n",
       "└───────────┴────────────────┘"
      ]
     },
     "execution_count": 2,
     "metadata": {},
     "output_type": "execute_result"
    }
   ],
   "source": [
    "(\n",
    "    train_dataset\n",
    "    .with_columns(\n",
    "        pl.col(\"items\").list.len().alias(\"num_items\"),\n",
    "        #add column, showing if len(items) == 1\n",
    "        pl.when(pl.col(\"items\").list.len() == 1)\n",
    "        .then(pl.lit(1))\n",
    "        .otherwise(pl.lit(0))\n",
    "        .alias(\"is_single_item\")\n",
    "    )\n",
    "    .select(\n",
    "        pl.median(\"num_items\"),\n",
    "        pl.mean(\"is_single_item\")\n",
    "    )\n",
    ")"
   ]
  }
 ],
 "metadata": {
  "hide_input": false,
  "kernelspec": {
   "display_name": "recbole",
   "language": "python",
   "name": "python3"
  },
  "language_info": {
   "codemirror_mode": {
    "name": "ipython",
    "version": 3
   },
   "file_extension": ".py",
   "mimetype": "text/x-python",
   "name": "python",
   "nbconvert_exporter": "python",
   "pygments_lexer": "ipython3",
   "version": "3.11.9"
  }
 },
 "nbformat": 4,
 "nbformat_minor": 5
}
